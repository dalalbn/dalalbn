{
  "cells": [
    {
      "cell_type": "markdown",
      "metadata": {
        "id": "view-in-github",
        "colab_type": "text"
      },
      "source": [
        "<a href=\"https://colab.research.google.com/github/dalalbn/dalalbn/blob/main/static_files/assignments/hw0.ipynb\" target=\"_parent\"><img src=\"https://colab.research.google.com/assets/colab-badge.svg\" alt=\"Open In Colab\"/></a>"
      ]
    },
    {
      "cell_type": "markdown",
      "metadata": {
        "id": "Q2mg95kiPtQK"
      },
      "source": [
        "# Devoir 1 &mdash; Algèbre linéaire et manipulation d'images sous Python\n",
        "**Échéance : 16 février 2025 &ndash; 23h59**\n",
        "<br><br>\n",
        "\n",
        "## Récupération des fichiers dans Colab"
      ]
    },
    {
      "cell_type": "code",
      "source": [
        "from google.colab import drive\n",
        "drive.mount('/content/drive')"
      ],
      "metadata": {
        "id": "oI1BfutJJard",
        "outputId": "2be0b1ac-7ee9-49b5-a2e6-8e4c3cd686bc",
        "colab": {
          "base_uri": "https://localhost:8080/",
          "height": 304
        }
      },
      "execution_count": 15,
      "outputs": [
        {
          "output_type": "error",
          "ename": "MessageError",
          "evalue": "Error: credential propagation was unsuccessful",
          "traceback": [
            "\u001b[0;31m---------------------------------------------------------------------------\u001b[0m",
            "\u001b[0;31mMessageError\u001b[0m                              Traceback (most recent call last)",
            "\u001b[0;32m<ipython-input-15-d5df0069828e>\u001b[0m in \u001b[0;36m<cell line: 0>\u001b[0;34m()\u001b[0m\n\u001b[1;32m      1\u001b[0m \u001b[0;32mfrom\u001b[0m \u001b[0mgoogle\u001b[0m\u001b[0;34m.\u001b[0m\u001b[0mcolab\u001b[0m \u001b[0;32mimport\u001b[0m \u001b[0mdrive\u001b[0m\u001b[0;34m\u001b[0m\u001b[0;34m\u001b[0m\u001b[0m\n\u001b[0;32m----> 2\u001b[0;31m \u001b[0mdrive\u001b[0m\u001b[0;34m.\u001b[0m\u001b[0mmount\u001b[0m\u001b[0;34m(\u001b[0m\u001b[0;34m'/content/drive'\u001b[0m\u001b[0;34m)\u001b[0m\u001b[0;34m\u001b[0m\u001b[0;34m\u001b[0m\u001b[0m\n\u001b[0m",
            "\u001b[0;32m/usr/local/lib/python3.11/dist-packages/google/colab/drive.py\u001b[0m in \u001b[0;36mmount\u001b[0;34m(mountpoint, force_remount, timeout_ms, readonly)\u001b[0m\n\u001b[1;32m     98\u001b[0m \u001b[0;32mdef\u001b[0m \u001b[0mmount\u001b[0m\u001b[0;34m(\u001b[0m\u001b[0mmountpoint\u001b[0m\u001b[0;34m,\u001b[0m \u001b[0mforce_remount\u001b[0m\u001b[0;34m=\u001b[0m\u001b[0;32mFalse\u001b[0m\u001b[0;34m,\u001b[0m \u001b[0mtimeout_ms\u001b[0m\u001b[0;34m=\u001b[0m\u001b[0;36m120000\u001b[0m\u001b[0;34m,\u001b[0m \u001b[0mreadonly\u001b[0m\u001b[0;34m=\u001b[0m\u001b[0;32mFalse\u001b[0m\u001b[0;34m)\u001b[0m\u001b[0;34m:\u001b[0m\u001b[0;34m\u001b[0m\u001b[0;34m\u001b[0m\u001b[0m\n\u001b[1;32m     99\u001b[0m   \u001b[0;34m\"\"\"Mount your Google Drive at the specified mountpoint path.\"\"\"\u001b[0m\u001b[0;34m\u001b[0m\u001b[0;34m\u001b[0m\u001b[0m\n\u001b[0;32m--> 100\u001b[0;31m   return _mount(\n\u001b[0m\u001b[1;32m    101\u001b[0m       \u001b[0mmountpoint\u001b[0m\u001b[0;34m,\u001b[0m\u001b[0;34m\u001b[0m\u001b[0;34m\u001b[0m\u001b[0m\n\u001b[1;32m    102\u001b[0m       \u001b[0mforce_remount\u001b[0m\u001b[0;34m=\u001b[0m\u001b[0mforce_remount\u001b[0m\u001b[0;34m,\u001b[0m\u001b[0;34m\u001b[0m\u001b[0;34m\u001b[0m\u001b[0m\n",
            "\u001b[0;32m/usr/local/lib/python3.11/dist-packages/google/colab/drive.py\u001b[0m in \u001b[0;36m_mount\u001b[0;34m(mountpoint, force_remount, timeout_ms, ephemeral, readonly)\u001b[0m\n\u001b[1;32m    135\u001b[0m   )\n\u001b[1;32m    136\u001b[0m   \u001b[0;32mif\u001b[0m \u001b[0mephemeral\u001b[0m\u001b[0;34m:\u001b[0m\u001b[0;34m\u001b[0m\u001b[0;34m\u001b[0m\u001b[0m\n\u001b[0;32m--> 137\u001b[0;31m     _message.blocking_request(\n\u001b[0m\u001b[1;32m    138\u001b[0m         \u001b[0;34m'request_auth'\u001b[0m\u001b[0;34m,\u001b[0m\u001b[0;34m\u001b[0m\u001b[0;34m\u001b[0m\u001b[0m\n\u001b[1;32m    139\u001b[0m         \u001b[0mrequest\u001b[0m\u001b[0;34m=\u001b[0m\u001b[0;34m{\u001b[0m\u001b[0;34m'authType'\u001b[0m\u001b[0;34m:\u001b[0m \u001b[0;34m'dfs_ephemeral'\u001b[0m\u001b[0;34m}\u001b[0m\u001b[0;34m,\u001b[0m\u001b[0;34m\u001b[0m\u001b[0;34m\u001b[0m\u001b[0m\n",
            "\u001b[0;32m/usr/local/lib/python3.11/dist-packages/google/colab/_message.py\u001b[0m in \u001b[0;36mblocking_request\u001b[0;34m(request_type, request, timeout_sec, parent)\u001b[0m\n\u001b[1;32m    174\u001b[0m       \u001b[0mrequest_type\u001b[0m\u001b[0;34m,\u001b[0m \u001b[0mrequest\u001b[0m\u001b[0;34m,\u001b[0m \u001b[0mparent\u001b[0m\u001b[0;34m=\u001b[0m\u001b[0mparent\u001b[0m\u001b[0;34m,\u001b[0m \u001b[0mexpect_reply\u001b[0m\u001b[0;34m=\u001b[0m\u001b[0;32mTrue\u001b[0m\u001b[0;34m\u001b[0m\u001b[0;34m\u001b[0m\u001b[0m\n\u001b[1;32m    175\u001b[0m   )\n\u001b[0;32m--> 176\u001b[0;31m   \u001b[0;32mreturn\u001b[0m \u001b[0mread_reply_from_input\u001b[0m\u001b[0;34m(\u001b[0m\u001b[0mrequest_id\u001b[0m\u001b[0;34m,\u001b[0m \u001b[0mtimeout_sec\u001b[0m\u001b[0;34m)\u001b[0m\u001b[0;34m\u001b[0m\u001b[0;34m\u001b[0m\u001b[0m\n\u001b[0m",
            "\u001b[0;32m/usr/local/lib/python3.11/dist-packages/google/colab/_message.py\u001b[0m in \u001b[0;36mread_reply_from_input\u001b[0;34m(message_id, timeout_sec)\u001b[0m\n\u001b[1;32m    101\u001b[0m     ):\n\u001b[1;32m    102\u001b[0m       \u001b[0;32mif\u001b[0m \u001b[0;34m'error'\u001b[0m \u001b[0;32min\u001b[0m \u001b[0mreply\u001b[0m\u001b[0;34m:\u001b[0m\u001b[0;34m\u001b[0m\u001b[0;34m\u001b[0m\u001b[0m\n\u001b[0;32m--> 103\u001b[0;31m         \u001b[0;32mraise\u001b[0m \u001b[0mMessageError\u001b[0m\u001b[0;34m(\u001b[0m\u001b[0mreply\u001b[0m\u001b[0;34m[\u001b[0m\u001b[0;34m'error'\u001b[0m\u001b[0;34m]\u001b[0m\u001b[0;34m)\u001b[0m\u001b[0;34m\u001b[0m\u001b[0;34m\u001b[0m\u001b[0m\n\u001b[0m\u001b[1;32m    104\u001b[0m       \u001b[0;32mreturn\u001b[0m \u001b[0mreply\u001b[0m\u001b[0;34m.\u001b[0m\u001b[0mget\u001b[0m\u001b[0;34m(\u001b[0m\u001b[0;34m'data'\u001b[0m\u001b[0;34m,\u001b[0m \u001b[0;32mNone\u001b[0m\u001b[0;34m)\u001b[0m\u001b[0;34m\u001b[0m\u001b[0;34m\u001b[0m\u001b[0m\n\u001b[1;32m    105\u001b[0m \u001b[0;34m\u001b[0m\u001b[0m\n",
            "\u001b[0;31mMessageError\u001b[0m: Error: credential propagation was unsuccessful"
          ]
        }
      ]
    },
    {
      "cell_type": "code",
      "execution_count": 14,
      "metadata": {
        "id": "AXv9omIHPtQQ"
      },
      "outputs": [],
      "source": [
        "#\n",
        "# Exécutez cette cellule pour préparer votre environnement Colab.\n",
        "#\n",
        "%%capture\n",
        "!wget https://benhadid.github.io/m1vpo/static_files/assignments/hw0.zip\n",
        "!unzip hw0.zip\n",
        "!mv hw0/* .\n",
        "!rm -rf hw0\n",
        "!rm -rf hw0.zip"
      ]
    },
    {
      "cell_type": "markdown",
      "metadata": {
        "id": "C_QZIEKxPtQT"
      },
      "source": [
        "## Initialisation du bloc-notes"
      ]
    },
    {
      "cell_type": "code",
      "execution_count": 3,
      "metadata": {
        "id": "CSkKrMPAPtQU",
        "outputId": "435f69b4-7fcb-44ff-9fec-3bdfa347d7c0",
        "colab": {
          "base_uri": "https://localhost:8080/",
          "height": 384
        }
      },
      "outputs": [
        {
          "output_type": "error",
          "ename": "ModuleNotFoundError",
          "evalue": "No module named 'linalg'",
          "traceback": [
            "\u001b[0;31m---------------------------------------------------------------------------\u001b[0m",
            "\u001b[0;31mModuleNotFoundError\u001b[0m                       Traceback (most recent call last)",
            "\u001b[0;32m<ipython-input-3-b6ff9bc88299>\u001b[0m in \u001b[0;36m<cell line: 0>\u001b[0;34m()\u001b[0m\n\u001b[1;32m     13\u001b[0m \u001b[0;34m\u001b[0m\u001b[0m\n\u001b[1;32m     14\u001b[0m \u001b[0;31m#Importe toutes les méthodes dans les fichiers: linalg.py et imageManip.py\u001b[0m\u001b[0;34m\u001b[0m\u001b[0;34m\u001b[0m\u001b[0m\n\u001b[0;32m---> 15\u001b[0;31m \u001b[0;32mfrom\u001b[0m \u001b[0mlinalg\u001b[0m \u001b[0;32mimport\u001b[0m \u001b[0;34m*\u001b[0m\u001b[0;34m\u001b[0m\u001b[0;34m\u001b[0m\u001b[0m\n\u001b[0m\u001b[1;32m     16\u001b[0m \u001b[0;32mfrom\u001b[0m \u001b[0mimageManip\u001b[0m \u001b[0;32mimport\u001b[0m \u001b[0;34m*\u001b[0m\u001b[0;34m\u001b[0m\u001b[0;34m\u001b[0m\u001b[0m\n\u001b[1;32m     17\u001b[0m \u001b[0;34m\u001b[0m\u001b[0m\n",
            "\u001b[0;31mModuleNotFoundError\u001b[0m: No module named 'linalg'",
            "",
            "\u001b[0;31m---------------------------------------------------------------------------\u001b[0;32m\nNOTE: If your import is failing due to a missing package, you can\nmanually install dependencies using either !pip or !apt.\n\nTo view examples of installing some common dependencies, click the\n\"Open Examples\" button below.\n\u001b[0;31m---------------------------------------------------------------------------\u001b[0m\n"
          ],
          "errorDetails": {
            "actions": [
              {
                "action": "open_url",
                "actionText": "Open Examples",
                "url": "/notebooks/snippets/importing_libraries.ipynb"
              }
            ]
          }
        }
      ],
      "source": [
        "#Importe la fonction print_function à partir de version future de python\n",
        "from __future__ import print_function\n",
        "\n",
        "#Setup\n",
        "\n",
        "# Le module random implémente un générateur de nombres pseudo-aléatoire\n",
        "import random\n",
        "\n",
        "# Numpy est le paquetage principal utilisé pour le calcul scientifique dans Python.\n",
        "# Ce paquetage sera l'une de nos bibliothèques les plus utilisées dans ce cours\n",
        "import numpy as np\n",
        "\n",
        "\n",
        "#Importe toutes les méthodes dans les fichiers: linalg.py et imageManip.py\n",
        "from linalg import *\n",
        "from imageManip import *\n",
        "\n",
        "\n",
        "#Matplotlib est une bibliothèque de traçage(dessin) pour python\n",
        "import matplotlib.pyplot as plt\n",
        "# Le code suivant fait apparaître les figure de matplotlib en ligne dans le\n",
        "# notebook au lieu de lancer une nouvelle fenêtre.\n",
        "%matplotlib inline\n",
        "plt.rcParams['figure.figsize'] = (10.0, 8.0) # fixer les dimensions par défaut des figures\n",
        "plt.rcParams['image.interpolation'] = 'nearest'\n",
        "plt.rcParams['image.cmap'] = 'gray'\n",
        "\n",
        "\n",
        "# Quelques instructions supplémentaires pour que le notebook recharge les modules externes en python;\n",
        "# voir http://stackoverflow.com/questions/1907993/autoreload-of-modules-in-ipython\n",
        "%load_ext autoreload\n",
        "%autoreload 2\n",
        "%reload_ext autoreload"
      ]
    },
    {
      "cell_type": "markdown",
      "metadata": {
        "id": "A1drc4iPPtQV"
      },
      "source": [
        "## 1. Description\n",
        "\n",
        "Nous allons explorer dans ce devoir des notions de base d'algèbre linéaire et quelques techniques de manipulation d'images sous Python. Cela permettra de mettre tout le monde à la même page par rapport aux compétences requises pour ce module.\n",
        "\n",
        "Par ailleurs, l'autre objectif de ce devoir est de vous initier/inciter à rechercher sur la toile les fonctionnalités python susceptible de vous aider à résoudre un problème donné. Ainsi, dans de nombreuses fonctions que vous implémenterez ici, vous devez identifier / utiliser les fonctions python qui peuvent vous assister."
      ]
    },
    {
      "cell_type": "markdown",
      "metadata": {
        "tags": [],
        "id": "iqPsAmraPtQV"
      },
      "source": [
        "## 2. Algèbre Linéaire\n",
        "Dans cette section, nous allons revoir quelques notions d'algèbre linéaire et apprendre à manipuler des vecteurs et des matrices en python à l'aide de Numpy. À la fin de cette section, vous aurez implémenté toutes les méthodes requises dans le fichier `linalg.py`."
      ]
    },
    {
      "cell_type": "markdown",
      "metadata": {
        "id": "DcB5yrhZPtQW"
      },
      "source": [
        "### Question 2.1\n",
        "En premier lieu, définissez les matrices et vecteurs suivants à l'aide de Numpy. En ce sens, cherchez sur la toile la documentation sur `np.array()`. Dans le bloc de code suivant, définissez $M$ comme une matrice $(4, 3)$, $a$ comme un vecteur ligne $(1, 3)$ et $b$ comme un vecteur colonne $(3, 1)$ :\n",
        "\n",
        "$$\n",
        "M = \\begin{bmatrix}\n",
        "1 & 2 & 3 \\\\\n",
        "4 & 5 & 6 \\\\\n",
        "7 & 8 & 9 \\\\\n",
        "10 & 11 & 12 \\end{bmatrix}\n",
        ", \\qquad\n",
        "a = \\begin{bmatrix}\n",
        "1 & 1 & 0\n",
        "\\end{bmatrix}\n",
        ", \\qquad\n",
        "b = \\begin{bmatrix}\n",
        "-1 \\\\ 2 \\\\ 5\n",
        "\\end{bmatrix}  \n",
        "$$"
      ]
    },
    {
      "cell_type": "code",
      "execution_count": 5,
      "metadata": {
        "scrolled": true,
        "id": "CsuMxIAcPtQW",
        "outputId": "3e48c457-2600-4a99-9c6e-6590ec36aa4c",
        "colab": {
          "base_uri": "https://localhost:8080/"
        }
      },
      "outputs": [
        {
          "output_type": "stream",
          "name": "stdout",
          "text": [
            "M = \n",
            " [[ 1  2  3]\n",
            " [ 4  5  6]\n",
            " [ 7  8  9]\n",
            " [10 11 12]]\n",
            "Dimension de M :  (4, 3)\n",
            "\n",
            "a =  [[1 1 0]]\n",
            "Dimension de a :  (1, 3)\n",
            "\n",
            "b =  [[-1]\n",
            " [ 2]\n",
            " [ 3]]\n",
            "Dimension de b :  (3, 1)\n"
          ]
        }
      ],
      "source": [
        "### VOTRE CODE ICI - DEBUT (remplacez l'instruction 'pass' par votre code)\n",
        "\n",
        "M = np.array ([[1, 2, 3],\n",
        "                    [4, 5, 6],\n",
        "                    [7, 8, 9],\n",
        "                    [10, 11, 12]])\n",
        "a = np.array([[1 , 1, 0]])\n",
        "b = np.array([[-1], [2], [3]])\n",
        "### VOTRE CODE ICI - FIN\n",
        "print(\"M = \\n\", M)\n",
        "print(\"Dimension de M : \", M.shape)\n",
        "print()\n",
        "print(\"a = \", a)\n",
        "print(\"Dimension de a : \", a.shape)\n",
        "print()\n",
        "print(\"b = \", b)\n",
        "print(\"Dimension de b : \", b.shape)"
      ]
    },
    {
      "cell_type": "markdown",
      "metadata": {
        "id": "VhcGWmxEPtQX"
      },
      "source": [
        "### Question 2.2\n",
        "Implementez la méthode `dot_product()` dans `linalg.py` et vérifiez qu'elle retourne une réponse corrècte pour le produit scalaire $\\: b^T a^T$."
      ]
    },
    {
      "cell_type": "code",
      "execution_count": null,
      "metadata": {
        "id": "MPSdkfvVPtQX",
        "outputId": "d74ae11d-ab67-4bda-e8b1-367b94da0686",
        "colab": {
          "base_uri": "https://localhost:8080/"
        }
      },
      "outputs": [
        {
          "output_type": "stream",
          "name": "stdout",
          "text": [
            "[[1]]\n",
            "dimension :  (1, 1)\n"
          ]
        }
      ],
      "source": [
        "# Nous allons tester ici votre implémentation de dot_product(). La réponse corrècte est : [[1]].\n",
        "def dot_product(a, b):\n",
        "    \"\"\"Implement dot product between the two vectors: a and b.\n",
        "\n",
        "    (optional): While you can solve this using for loops, we recommend\n",
        "    that you look up `np.dot()` online and use that instead.\n",
        "\n",
        "    Args:\n",
        "        a: numpy array of shape (x, n)\n",
        "        b: numpy array of shape (n, x)\n",
        "\n",
        "    Returns:\n",
        "        out: numpy array of shape (x, x) (scalar if x = 1)\n",
        "    \"\"\"\n",
        "    out = None\n",
        "    ### VOTRE CODE ICI - DEBUT\n",
        "\n",
        "    out = np.dot (b.T , a.T)\n",
        "\n",
        "\n",
        "    ### VOTRE CODE ICI - FIN\n",
        "    return out\n",
        "aDotB = dot_product(a, b)\n",
        "print(aDotB)\n",
        "\n",
        "print(\"dimension : \", aDotB.shape)"
      ]
    },
    {
      "cell_type": "markdown",
      "metadata": {
        "id": "W8JMcJfxPtQY"
      },
      "source": [
        "### Question 2.3\n",
        "Implémentez la méthode `complicated_matrix_function()` dans `linalg.py` et utilisez là pour calculer le produit $(b^T a^T) M a^T$\n",
        "\n",
        "NOTE IMPORTANTE : La méthode `complicated_matrix_function()` s'attend à ce que toutes les entrées soient des tableaux Numpy bidimensionnels. Ceci est nécessaire car les tableaux Numpy 2D peuvent être transposés, tandis que les tableaux 1D (c.-à-d. les vecteurs) ne peuvent pas être transposés.\n",
        "\n",
        "Pour transposer un tableau bidimensionnel `array`, vous pouvez utiliser la syntaxe `array.T`"
      ]
    },
    {
      "cell_type": "code",
      "execution_count": null,
      "metadata": {
        "id": "KFIvyusnPtQY",
        "outputId": "17c0f807-dc92-4373-c172-d9278a1438e3",
        "colab": {
          "base_uri": "https://localhost:8080/"
        }
      },
      "outputs": [
        {
          "output_type": "stream",
          "name": "stdout",
          "text": [
            "[[ 3]\n",
            " [ 9]\n",
            " [15]\n",
            " [21]]\n",
            "\n",
            "dimension :  (4, 1)\n"
          ]
        }
      ],
      "source": [
        "# La réponse retournée doit être $[[3], [9], [15], [21]]$ de dimension (4, 1).\n",
        "def complicated_matrix_function(M, a, b):\n",
        "    \"\"\"Implement (a * b) * (M * a.T).\n",
        "\n",
        "    (optional): Use the `dot_product(a, b)` function you wrote above\n",
        "    as a helper function.\n",
        "\n",
        "    Args:\n",
        "        M: numpy matrix of shape (x, n).\n",
        "        a: numpy array of shape (1, n).\n",
        "        b: numpy array of shape (n, 1).\n",
        "\n",
        "    Returns:\n",
        "        out: numpy matrix of shape (x, 1).\n",
        "    \"\"\"\n",
        "    out = None\n",
        "    ### VOTRE CODE ICI - DEBUT\n",
        "    out1 = np.dot(b.T, a.T)\n",
        "    out2 = np.dot(M, a.T)\n",
        "    out = out1 * out2\n",
        "    ### VOTRE CODE ICI - FIN\n",
        "\n",
        "    return out\n",
        "ans = complicated_matrix_function(M, a, b)\n",
        "print(ans)\n",
        "print()\n",
        "print(\"dimension : \", ans.shape)"
      ]
    },
    {
      "cell_type": "code",
      "execution_count": null,
      "metadata": {
        "id": "Yki-bbSyPtQY",
        "outputId": "48e0143d-cb47-4a86-d177-e30ad778a277",
        "colab": {
          "base_uri": "https://localhost:8080/"
        }
      },
      "outputs": [
        {
          "output_type": "stream",
          "name": "stdout",
          "text": [
            "[[ 20]\n",
            " [100]]\n",
            "\n",
            "dimension :  (2, 1)\n"
          ]
        }
      ],
      "source": [
        "M_2 = np.array(range(4)).reshape((2,2))\n",
        "a_2 = np.array([[1,1]])\n",
        "b_2 = np.array([[10, 10]]).T\n",
        "\n",
        "# La réponse retournée doit être $[[20], [100]]$ de dimension (2, 1).\n",
        "ans = complicated_matrix_function(M_2, a_2, b_2)\n",
        "print(ans)\n",
        "print()\n",
        "print(\"dimension : \", ans.shape)"
      ]
    },
    {
      "cell_type": "markdown",
      "metadata": {
        "id": "7rR7P5XTPtQZ"
      },
      "source": [
        "### Question 2.4\n",
        "Implémentez les fonctions `svd()` et `get_singular_values()`. Dans `svd()`, vous devez effectuer une décomposition en valeurs singulières ([plus d'info](https://fr.wikipedia.org/wiki/D%C3%A9composition_en_valeurs_singuli%C3%A8res)) de la matrice fournie en entrée. La fonction `get_singular_values()` doit retourner les k plus grandes valeurs singulières (k est donné en paramètre lors d'appels de cette fonction)."
      ]
    },
    {
      "cell_type": "code",
      "execution_count": 10,
      "metadata": {
        "id": "e5S5HRWpPtQZ",
        "outputId": "3c4c184e-b803-463c-d46c-83c4654a562a",
        "colab": {
          "base_uri": "https://localhost:8080/"
        }
      },
      "outputs": [
        {
          "output_type": "stream",
          "name": "stdout",
          "text": [
            "[25.46240744]\n",
            "[25.46240744  1.29066168]\n"
          ]
        }
      ],
      "source": [
        "M = np.array ([[1, 2, 3],\n",
        "                    [4, 5, 6],\n",
        "                    [7, 8, 9],\n",
        "                    [10, 11, 12]])\n",
        "def svd(M):\n",
        "    \"\"\"Implement Singular Value Decomposition.\n",
        "\n",
        "    (optional): Look up `np.linalg` library online for a list of\n",
        "    helper functions that you might find useful.\n",
        "\n",
        "    Args:\n",
        "        M: numpy matrix of shape (m, n)\n",
        "\n",
        "    Returns:\n",
        "        u: numpy array of shape (m, m).\n",
        "        s: numpy array of shape (k).\n",
        "        v: numpy array of shape (n, n).\n",
        "    \"\"\"\n",
        "    u = None\n",
        "    s = None\n",
        "    v = None\n",
        "    ### VOTRE CODE ICI - DEBUT\n",
        "    u , s, v = np.linalg.svd(M)\n",
        "    ### VOTRE CODE ICI - FIN\n",
        "\n",
        "    return u, s, v\n",
        "\n",
        "\n",
        "def get_singular_values(M, k):\n",
        "    \"\"\"Return top n singular values of matrix.\n",
        "\n",
        "    (optional): Use the `svd(M)` function you wrote above\n",
        "    as a helper function.\n",
        "\n",
        "    Args:\n",
        "        M: numpy matrix of shape (m, n).\n",
        "        k: number of singular values to output.\n",
        "\n",
        "    Returns:\n",
        "        singular_values: array of shape (k)\n",
        "    \"\"\"\n",
        "    singular_values = None\n",
        "    ### VOTRE CODE ICI - DEBUT\n",
        "    _, S, _ = svd(M)\n",
        "    singular_values = S[:k]\n",
        "    ### VOTRE CODE ICI - FIN\n",
        "    return singular_values\n",
        "\n",
        "\n",
        "def eigen_decomp(M):\n",
        "    \"\"\"Implement eigenvalue decomposition.\n",
        "\n",
        "    (optional): You might find the `np.linalg.eig` function useful.\n",
        "\n",
        "    Args:\n",
        "        matrix: numpy matrix of shape (m, n)\n",
        "\n",
        "    Returns:\n",
        "        w: numpy array of shape (1, m) such that the column v[:,i] is the eigenvector corresponding to the eigenvalue w[i].\n",
        "        v: Matrix where every column is an eigenvector.\n",
        "    \"\"\"\n",
        "    w = None\n",
        "    v = None\n",
        "    ### VOTRE CODE ICI - DEBUT\n",
        "    w, v = np.linalg.eig(M)\n",
        "    ### VOTRE CODE ICI - FIN\n",
        "    return w, v\n",
        "# Renvoyons d'abord la première valeur singulière et affichons la. Elle doit être ~ 25.46.\n",
        "only_first_singular_value = get_singular_values(M, 1)\n",
        "print(only_first_singular_value)\n",
        "\n",
        "# Maintenant, Récupérons les deux premières valeurs singulières.\n",
        "# Notez que la première valeur singulière est beaucoup plus grande que la seconde.\n",
        "first_two_singular_values = get_singular_values(M, 2)\n",
        "print(first_two_singular_values)\n",
        "\n",
        "# Assurons-nous que la première valeur singulière dans les deux appels est la même.\n",
        "assert only_first_singular_value[0] == first_two_singular_values[0]"
      ]
    },
    {
      "cell_type": "markdown",
      "metadata": {
        "id": "wu_Pq-MaPtQZ"
      },
      "source": [
        "### Question 2.5\n",
        "Implementez les méthodes `eigen_decomp()` et `get_eigen_values_and_vectors()`. Vous devez effectuer ici la décomposition en valeurs propres ([plus d'infos](https://fr.wikipedia.org/wiki/D%C3%A9composition_d%27une_matrice_en_%C3%A9l%C3%A9ments_propres)) de la matrice ci-dessous, puis retourner les k plus grandes valeurs propres et vecteurs propres associés.\n",
        "\n",
        "$$M = \\begin{bmatrix}\n",
        "1 & 2 & 3 \\\\\n",
        "4 & 5 & 6 \\\\\n",
        "7 & 8 & 9 \\end{bmatrix}\n",
        "$$\n"
      ]
    },
    {
      "cell_type": "code",
      "execution_count": 4,
      "metadata": {
        "id": "TfczKnJwPtQa",
        "outputId": "12d62258-e605-4b7a-bb88-5c4a63977409",
        "colab": {
          "base_uri": "https://localhost:8080/",
          "height": 211
        }
      },
      "outputs": [
        {
          "output_type": "error",
          "ename": "NameError",
          "evalue": "name 'get_eigen_values_and_vectors' is not defined",
          "traceback": [
            "\u001b[0;31m---------------------------------------------------------------------------\u001b[0m",
            "\u001b[0;31mNameError\u001b[0m                                 Traceback (most recent call last)",
            "\u001b[0;32m<ipython-input-4-e8f368ad439c>\u001b[0m in \u001b[0;36m<cell line: 0>\u001b[0;34m()\u001b[0m\n\u001b[1;32m      8\u001b[0m \u001b[0;31m# Récupérons maintenant la première valeur propre et le premier vecteur propre.\u001b[0m\u001b[0;34m\u001b[0m\u001b[0;34m\u001b[0m\u001b[0m\n\u001b[1;32m      9\u001b[0m \u001b[0;31m# Votre résultat doit retourner une seule valeur propre et un seul vecteur propre.\u001b[0m\u001b[0;34m\u001b[0m\u001b[0;34m\u001b[0m\u001b[0m\n\u001b[0;32m---> 10\u001b[0;31m \u001b[0mval\u001b[0m\u001b[0;34m,\u001b[0m \u001b[0mvec\u001b[0m \u001b[0;34m=\u001b[0m \u001b[0mget_eigen_values_and_vectors\u001b[0m\u001b[0;34m(\u001b[0m\u001b[0mM\u001b[0m\u001b[0;34m,\u001b[0m \u001b[0;36m1\u001b[0m\u001b[0;34m)\u001b[0m\u001b[0;34m\u001b[0m\u001b[0;34m\u001b[0m\u001b[0m\n\u001b[0m\u001b[1;32m     11\u001b[0m \u001b[0mprint\u001b[0m\u001b[0;34m(\u001b[0m\u001b[0;34m\"Première valeur propre = \"\u001b[0m\u001b[0;34m,\u001b[0m \u001b[0mval\u001b[0m\u001b[0;34m)\u001b[0m\u001b[0;34m\u001b[0m\u001b[0;34m\u001b[0m\u001b[0m\n\u001b[1;32m     12\u001b[0m \u001b[0mprint\u001b[0m\u001b[0;34m(\u001b[0m\u001b[0;34m)\u001b[0m\u001b[0;34m\u001b[0m\u001b[0;34m\u001b[0m\u001b[0m\n",
            "\u001b[0;31mNameError\u001b[0m: name 'get_eigen_values_and_vectors' is not defined"
          ]
        }
      ],
      "source": [
        "# Commençons par définir la matrice  M.\n",
        "# Appuyez-vous sur votre réponse à la question 1.1 plus haut et remplacez 'pass'\n",
        "# par une instruction corrècte\n",
        "M = np.array ([[1, 2, 3],\n",
        "                    [4, 5, 6],\n",
        "                    [7, 8, 9],])\n",
        "\n",
        "# Récupérons maintenant la première valeur propre et le premier vecteur propre.\n",
        "# Votre résultat doit retourner une seule valeur propre et un seul vecteur propre.\n",
        "val, vec = get_eigen_values_and_vectors(M, 1)\n",
        "print(\"Première valeur propre = \", val)\n",
        "print()\n",
        "print(\"Premier vecteur propre = \\n\", vec)\n",
        "print()\n",
        "assert len(vec) == 1\n",
        "\n",
        "# Maintenant, récupérons les deux premières valeurs propres et vecteurs propres.\n",
        "# Votre résultat doit retourner une liste de deux valeurs propres et une liste de deux tableaux (deux vecteurs propres).\n",
        "val, vec = get_eigen_values_and_vectors(M, 2)\n",
        "print(\"Valeurs propres = \", val)\n",
        "print()\n",
        "print(\"Vecteurs propres = \\n\", vec)\n",
        "assert len(vec) == 2"
      ]
    },
    {
      "cell_type": "markdown",
      "metadata": {
        "id": "3iZYhmKQPtQa"
      },
      "source": [
        "## 3. Manipulation d'images\n",
        "\n",
        "Dans cette deuxième partie, commençons par charger en mémoire quelques images afin de réaliser des opérations matricielles dessus. A la fin de cette section, vous aurez implémenté toutes les fonctions dans le fichier `imageManip.py`"
      ]
    },
    {
      "cell_type": "code",
      "execution_count": 9,
      "metadata": {
        "id": "JUR6XgoNPtQa"
      },
      "outputs": [],
      "source": [
        "# Exécutez ce code pour définir les emplacements des images que nous utiliserons.\n",
        "# Vous pouvez modifier ces chemins pour pointer vers vos propres images si vous voulez vous amuser.\n",
        "\n",
        "image1_path = './image1.jpg'\n",
        "image2_path = './image2.jpg'\n",
        "\n",
        "# Définition d'une fonction locale pour\n",
        "# l'affichage d'images dans ce notebook\n",
        "\n",
        "def display(img):\n",
        "    # Show image\n",
        "    plt.figure(figsize = (5,5))\n",
        "    plt.imshow(img)\n",
        "    plt.axis('off')\n",
        "    plt.show()"
      ]
    },
    {
      "cell_type": "markdown",
      "metadata": {
        "id": "VTWA2SVBPtQa"
      },
      "source": [
        "### Question 3.1\n",
        "Implémentez la méthode de chargement `load()` dans `imageManip.py`. Les images chargées seront utilisées dans le reste de ce notebook pour visualiser vos résultats."
      ]
    },
    {
      "cell_type": "code",
      "execution_count": 10,
      "metadata": {
        "id": "VPfnztVAPtQa",
        "outputId": "bdfdd736-6447-49c3-c9cc-dfdf633ddd73",
        "colab": {
          "base_uri": "https://localhost:8080/",
          "height": 349
        }
      },
      "outputs": [
        {
          "output_type": "error",
          "ename": "error",
          "evalue": "OpenCV(4.11.0) /io/opencv/modules/imgproc/src/color.cpp:199: error: (-215:Assertion failed) !_src.empty() in function 'cvtColor'\n",
          "traceback": [
            "\u001b[0;31m---------------------------------------------------------------------------\u001b[0m",
            "\u001b[0;31merror\u001b[0m                                     Traceback (most recent call last)",
            "\u001b[0;32m<ipython-input-10-4f9d194f551f>\u001b[0m in \u001b[0;36m<cell line: 0>\u001b[0;34m()\u001b[0m\n\u001b[1;32m     25\u001b[0m     \u001b[0mout\u001b[0m \u001b[0;34m=\u001b[0m \u001b[0mout\u001b[0m\u001b[0;34m.\u001b[0m\u001b[0mastype\u001b[0m\u001b[0;34m(\u001b[0m\u001b[0mnp\u001b[0m\u001b[0;34m.\u001b[0m\u001b[0mfloat32\u001b[0m\u001b[0;34m)\u001b[0m \u001b[0;34m/\u001b[0m \u001b[0;36m255\u001b[0m\u001b[0;34m\u001b[0m\u001b[0;34m\u001b[0m\u001b[0m\n\u001b[1;32m     26\u001b[0m     \u001b[0;32mreturn\u001b[0m \u001b[0mout\u001b[0m\u001b[0;34m\u001b[0m\u001b[0;34m\u001b[0m\u001b[0m\n\u001b[0;32m---> 27\u001b[0;31m \u001b[0mimage1\u001b[0m \u001b[0;34m=\u001b[0m \u001b[0mload\u001b[0m\u001b[0;34m(\u001b[0m\u001b[0mimage1_path\u001b[0m\u001b[0;34m)\u001b[0m\u001b[0;34m\u001b[0m\u001b[0;34m\u001b[0m\u001b[0m\n\u001b[0m\u001b[1;32m     28\u001b[0m \u001b[0mimage2\u001b[0m \u001b[0;34m=\u001b[0m \u001b[0mload\u001b[0m\u001b[0;34m(\u001b[0m\u001b[0mimage2_path\u001b[0m\u001b[0;34m)\u001b[0m\u001b[0;34m\u001b[0m\u001b[0;34m\u001b[0m\u001b[0m\n\u001b[1;32m     29\u001b[0m \u001b[0;34m\u001b[0m\u001b[0m\n",
            "\u001b[0;32m<ipython-input-10-4f9d194f551f>\u001b[0m in \u001b[0;36mload\u001b[0;34m(image_path)\u001b[0m\n\u001b[1;32m     19\u001b[0m     \u001b[0;31m# Utilisez cv2.imread - le format RGB doit être retourné\u001b[0m\u001b[0;34m\u001b[0m\u001b[0;34m\u001b[0m\u001b[0m\n\u001b[1;32m     20\u001b[0m     \u001b[0mout\u001b[0m \u001b[0;34m=\u001b[0m \u001b[0mcv2\u001b[0m\u001b[0;34m.\u001b[0m\u001b[0mimread\u001b[0m\u001b[0;34m(\u001b[0m\u001b[0;34m'./image1.jpg'\u001b[0m\u001b[0;34m)\u001b[0m\u001b[0;34m\u001b[0m\u001b[0;34m\u001b[0m\u001b[0m\n\u001b[0;32m---> 21\u001b[0;31m     \u001b[0mout\u001b[0m \u001b[0;34m=\u001b[0m \u001b[0mcv2\u001b[0m\u001b[0;34m.\u001b[0m\u001b[0mcvtColor\u001b[0m\u001b[0;34m(\u001b[0m\u001b[0mout\u001b[0m\u001b[0;34m,\u001b[0m \u001b[0mcv2\u001b[0m\u001b[0;34m.\u001b[0m\u001b[0mCOLOR_BGR2RGB\u001b[0m\u001b[0;34m)\u001b[0m\u001b[0;34m\u001b[0m\u001b[0;34m\u001b[0m\u001b[0m\n\u001b[0m\u001b[1;32m     22\u001b[0m     \u001b[0;31m### VOTRE CODE ICI - FIN\u001b[0m\u001b[0;34m\u001b[0m\u001b[0;34m\u001b[0m\u001b[0m\n\u001b[1;32m     23\u001b[0m \u001b[0;34m\u001b[0m\u001b[0m\n",
            "\u001b[0;31merror\u001b[0m: OpenCV(4.11.0) /io/opencv/modules/imgproc/src/color.cpp:199: error: (-215:Assertion failed) !_src.empty() in function 'cvtColor'\n"
          ]
        }
      ],
      "source": [
        "import cv2\n",
        "\n",
        "def load(image_path):\n",
        "    \"\"\"Loads an image from a file path.\n",
        "\n",
        "    HINT: Look up `cv2.imread()` function -\n",
        "          whatch out  for the returned color format ! Check the following link for some fun :\n",
        "          https://www.learnopencv.com/why-does-opencv-use-bgr-color-format/\n",
        "\n",
        "    Args:\n",
        "        image_path: file path to the image.\n",
        "\n",
        "    Returns:\n",
        "        out: numpy array of shape(image_height, image_width, 3).\n",
        "    \"\"\"\n",
        "    out = None\n",
        "\n",
        "    ### VOTRE CODE ICI - DEBUT\n",
        "    # Utilisez cv2.imread - le format RGB doit être retourné\n",
        "    out = cv2.imread('./image1.jpg')\n",
        "    out = cv2.cvtColor(out, cv2.COLOR_BGR2RGB)\n",
        "    ### VOTRE CODE ICI - FIN\n",
        "\n",
        "    # Let's convert the image to be between the correct range.\n",
        "    out = out.astype(np.float32) / 255\n",
        "    return out\n",
        "image1 = load(image1_path)\n",
        "image2 = load(image2_path)\n",
        "\n",
        "display(image1)\n",
        "display(image2)"
      ]
    },
    {
      "cell_type": "markdown",
      "metadata": {
        "id": "IHmLCNaEPtQb"
      },
      "source": [
        "### Question 3.2\n",
        "Implémentez la méthode `dim_image()` qui transforme une image fournie en entrée en utilisant la formule $x_n = 0.5 \\times x_p^2$ pour chaque pixel, où $x_n$ est la nouvelle valeur et $x_p$ est la valeur initiale.\n",
        "\n",
        "**Remarque :** Rappelons que les valeurs d'intensité d'une image en virgule flottante doivent être dans la plage $[0.0, 1.0]$. Ainsi, la formule ci-dessus réduira les valeurs de ces intensités et produira donc une image plus sombre."
      ]
    },
    {
      "cell_type": "code",
      "execution_count": null,
      "metadata": {
        "scrolled": true,
        "id": "3VqSgdG3PtQb"
      },
      "outputs": [],
      "source": [
        "new_image = dim_image(image1)\n",
        "display(new_image)"
      ]
    },
    {
      "cell_type": "markdown",
      "metadata": {
        "id": "WrVty_hMPtQb"
      },
      "source": [
        "### Question 3.3\n",
        "Implémentez la méthode `convert_to_grey_scale()` pour convertir une image en niveaux de gris (c.f. voir description de la fonction dans le fichier `imageManip.py` pour plus de détails)."
      ]
    },
    {
      "cell_type": "code",
      "execution_count": null,
      "metadata": {
        "id": "qjzUw48cPtQb"
      },
      "outputs": [],
      "source": [
        "grey_image = convert_to_grey_scale(image1)\n",
        "display(grey_image)"
      ]
    },
    {
      "cell_type": "markdown",
      "metadata": {
        "id": "iMvTr7NsPtQb"
      },
      "source": [
        "### Question 3.4\n",
        "\n",
        "Implémentez la méthode `rgb_exclusion()` pour décomposer une image en ces trois canaux R (rouge), G (vert), B (bleu), puis retourner une nouvelle image en excluant le canal spécifié."
      ]
    },
    {
      "cell_type": "code",
      "execution_count": null,
      "metadata": {
        "scrolled": true,
        "id": "ANLp3IysPtQb"
      },
      "outputs": [],
      "source": [
        "without_red = rgb_exclusion(image1, 'R')\n",
        "without_blue = rgb_exclusion(image1, 'B')\n",
        "without_green = rgb_exclusion(image1, 'G')\n",
        "\n",
        "print(\"Ci-dessous, l'image n°1 où le canal rouge a été supprimé.\")\n",
        "display(without_red)\n",
        "\n",
        "print(\"Ci-dessous, l'image n°1 où le canal vert a été supprimé.\")\n",
        "display(without_green)\n",
        "\n",
        "print(\"Ci-dessous, l'image n°1 où le canal bleu a été supprimé.\")\n",
        "display(without_blue)"
      ]
    },
    {
      "cell_type": "markdown",
      "metadata": {
        "id": "BvJnwrBsPtQc"
      },
      "source": [
        "### Question 3.5\n",
        "Implémentez la méthode `lab_decomposition()` pour décomposer une image en ces trois canaux L*, a*, b*, puis retournez le canal spécifié ([plus d'info](https://fr.wikipedia.org/wiki/L*a*b*_CIE_1976))."
      ]
    },
    {
      "cell_type": "code",
      "execution_count": null,
      "metadata": {
        "scrolled": true,
        "id": "IPd6je0zPtQc"
      },
      "outputs": [],
      "source": [
        "image_l = lab_decomposition(image1, 'L')\n",
        "image_a = lab_decomposition(image1, 'A')\n",
        "image_b = lab_decomposition(image1, 'B')\n",
        "\n",
        "print(\"Ci-dessous, le canal L* dans la décomposition L*a*b* de l'image n°1\")\n",
        "display(image_l)\n",
        "\n",
        "print(\"Ci-dessous, le canal a* dans la décomposition L*a*b* de l'image n°1\")\n",
        "display(image_a)\n",
        "\n",
        "print(\"Ci-dessous, le canal b* dans la décomposition L*a*b* de l'image n°1\")\n",
        "display(image_b)"
      ]
    },
    {
      "cell_type": "markdown",
      "metadata": {
        "id": "8QILm7_QPtQc"
      },
      "source": [
        "### Question 3.6\n",
        "Implémentez la méthode `hsv_decomposition()` pour décomposer une image en ces trois canaux H, S, V, puis retournez le canal spécifié ([plus d'info](https://fr.wikipedia.org/wiki/Teinte_Saturation_Valeur))."
      ]
    },
    {
      "cell_type": "code",
      "execution_count": null,
      "metadata": {
        "id": "xnBznB0tPtQc"
      },
      "outputs": [],
      "source": [
        "image_h = hsv_decomposition(image1, 'H')\n",
        "image_s = hsv_decomposition(image1, 'S')\n",
        "image_v = hsv_decomposition(image1, 'V')\n",
        "\n",
        "print(\"Ci-dessous, le canal H dans la décomposition HSV de l'image n°1\")\n",
        "display(image_h)\n",
        "\n",
        "print(\"Ci-dessous, le canal S dans la décomposition HSV de l'image n°1\")\n",
        "display(image_s)\n",
        "\n",
        "print(\"Ci-dessous, le canal V dans la décomposition HSV de l'image n°1\")\n",
        "display(image_v)"
      ]
    },
    {
      "cell_type": "markdown",
      "metadata": {
        "id": "Wp8VX90CPtQc"
      },
      "source": [
        "### Question 3.7\n",
        "Dans la méthode `mix_images()`, créez une nouvelle image constituée de la moitié gauche de l'image n°1 et la moitié droite de l'image n°2. Pour chaque image en entrée, vous devez exclure le canal spécifié.\n",
        "\n",
        "Une implémentation correcte devrait afficher la moitié gauche du Mandrill sans le canal rouge et la moitié droite de l'image des maisons sans le canal vert."
      ]
    },
    {
      "cell_type": "code",
      "execution_count": null,
      "metadata": {
        "id": "qUy1trYwPtQc"
      },
      "outputs": [],
      "source": [
        "image_mixed = mix_images(image1, image2, channel1='R', channel2='G')\n",
        "display(image_mixed)\n",
        "\n",
        "#Test de vérification : la somme des pixels de l'image doit être ~76417.51\n",
        "np.sum(image_mixed)"
      ]
    },
    {
      "cell_type": "markdown",
      "metadata": {
        "id": "VWr7e9QOPtQd"
      },
      "source": [
        "### Question 3.8\n",
        "\n",
        "Implémentez la fonction `mix_quadrants()` dans `imageManip.py`.\n",
        "Cette fonction prend une image et effectue une opération différente sur chacun des quatre quadrants de l'image. Ensuite, elle combine les quatre quadrants ensemble.\n",
        "\n",
        "Voici les quatre opérations que vous devez effectuer sur les 4 quadrants :\n",
        "- Quadrant supérieur gauche : supprimez le canal \"R\" à l'aide de `rgb_exclusion()`.\n",
        "- Quadrant supérieur droit : atténuez le quadrant à l'aide de `dim_image()`.\n",
        "- Quadrant inférieur gauche : éclaircissez le quadrant à l'aide de la fonction  $x_n = x_p^{0.5}$\n",
        "- Quadrant inférieur droit : supprimez le canal \"R\" à l'aide de `rgb_exclusion()`."
      ]
    },
    {
      "cell_type": "code",
      "execution_count": null,
      "metadata": {
        "id": "nLvNsGJMPtQd"
      },
      "outputs": [],
      "source": [
        "mixed_quadrants = mix_quadrants(image1)\n",
        "display(mixed_quadrants)"
      ]
    },
    {
      "cell_type": "markdown",
      "metadata": {
        "id": "kyApKjJqPtQd"
      },
      "source": [
        "## 4. Livrables\n",
        "### 4.1. Le code (à remettre sur [benhadid.ddns.net](https://benhadid.ddns.net/course/M1_VPO/hw0))\n",
        "\n",
        "Le fichier \"devoir1.zip\" contenant les fichiers **`linalg.py`** et **`imageManip.py`** modifiés dans les zones indiquées par `### VOTRE CODE ICI - DEBUT` et `### VOTRE CODE ICI - FIN`.\n",
        "\n",
        "**Le code sera remis <del>en classe pendant votre séance de TP</del> au serveur INGInious - <span style='color:Red'> aucun document ou code ne sera accepté si envoyé par mail ou clé USB</span>**."
      ]
    },
    {
      "cell_type": "code",
      "execution_count": 16,
      "metadata": {
        "id": "bhUHyh9YPtQd",
        "outputId": "1a526fd3-57ff-4ee0-d773-0f8120896be3",
        "colab": {
          "base_uri": "https://localhost:8080/"
        }
      },
      "outputs": [
        {
          "output_type": "stream",
          "name": "stdout",
          "text": [
            "  adding: linalg.py (deflated 72%)\n",
            "  adding: imageManip.py (deflated 75%)\n"
          ]
        }
      ],
      "source": [
        "# Exécutez cette cellule puis récupérez votre fichier \"devoir1.zip\" depuis le panneau gauche dans Colab\n",
        "# Si nécessaire, faites un 'refresh' sur le répertoire pour faire apparaître le fichier 'devoir1.zip'\n",
        "\n",
        "!zip -r ./devoir1.zip linalg.py imageManip.py"
      ]
    }
  ],
  "metadata": {
    "kernelspec": {
      "display_name": "Python 3",
      "language": "python",
      "name": "python3"
    },
    "language_info": {
      "codemirror_mode": {
        "name": "ipython",
        "version": 3
      },
      "file_extension": ".py",
      "mimetype": "text/x-python",
      "name": "python",
      "nbconvert_exporter": "python",
      "pygments_lexer": "ipython3",
      "version": "3.9.2"
    },
    "vscode": {
      "interpreter": {
        "hash": "916dbcbb3f70747c44a77c7bcd40155683ae19c65e1c03b4aa3499c5328201f1"
      }
    },
    "colab": {
      "provenance": [],
      "include_colab_link": true
    }
  },
  "nbformat": 4,
  "nbformat_minor": 0
}